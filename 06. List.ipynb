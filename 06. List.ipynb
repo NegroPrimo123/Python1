{
 "cells": [
  {
   "cell_type": "markdown",
   "metadata": {
    "id": "czGn8OyQqdVG"
   },
   "source": [
    "# Коллекции Python\n",
    "В языке программирования Python существует четыре типа данных коллекций:\n",
    "\n",
    "* List представляет собой набор, который упорядочен и может быть изменен. Могут быть повторяющиеся значения\n",
    "\n",
    "* Tuple  — это упорядоченная и неизменяемая коллекция. Могут быть повторяющиеся значения\n",
    "\n",
    "* Set — это неупорядоченная, и неиндексированная коллекция. Нет повторяющихся значений. Элементы набора неизменны, но вы можете удалять и/или добавлять их в любое время\n",
    "\n",
    "* Dictionary представляет собой сборник упорядоченныйх (начиная с версии Python 3.7) и изменяемых элементов. Нет повторяющихся значений\n",
    "\n"
   ]
  },
  {
   "cell_type": "markdown",
   "metadata": {
    "id": "jXf-Iettj_Az"
   },
   "source": [
    "# Списки\n"
   ]
  },
  {
   "cell_type": "code",
   "execution_count": 1,
   "metadata": {
    "id": "y98nDjCWkE9n"
   },
   "outputs": [],
   "source": [
    "mylist = [\"яблоко\", \"банан\", \"вишня\"]"
   ]
  },
  {
   "cell_type": "markdown",
   "metadata": {
    "id": "TslJ6GhMkb0f"
   },
   "source": [
    "Списки используются для хранения нескольких элементов в одной переменной.\n",
    "\n",
    "Списки — это один из 4 встроенных типов данных в Python, используемых для хранения коллекций данных, остальные — это `Tuple` , `Set` и `Dictionary` , все с разными качествами и назначением.\n",
    "\n",
    "Списки создаются с помощью квадратных скобок, элементы списка индексируются"
   ]
  },
  {
   "cell_type": "code",
   "execution_count": 2,
   "metadata": {
    "colab": {
     "base_uri": "https://localhost:8080/"
    },
    "executionInfo": {
     "elapsed": 339,
     "status": "ok",
     "timestamp": 1666029438331,
     "user": {
      "displayName": "Наталья Пояркова",
      "userId": "05997905871093046879"
     },
     "user_tz": -180
    },
    "id": "_eQSz1J_kiNl",
    "outputId": "3958e13d-f067-4ad8-9f1c-b2d8f84d3da2"
   },
   "outputs": [
    {
     "name": "stdout",
     "output_type": "stream",
     "text": [
      "['яблоко', 'банан', 'вишня']\n",
      "вишня\n"
     ]
    }
   ],
   "source": [
    "this_list = [\"яблоко\", \"банан\", \"вишня\"]\n",
    "print(this_list)\n",
    "print (this_list[2])"
   ]
  },
  {
   "cell_type": "markdown",
   "metadata": {
    "id": "PzodF_K9lCmM"
   },
   "source": [
    "## Свойства списков\n",
    "Элементы списка упорядочены, изменяемы и допускают дублирование значений.\n",
    "\n"
   ]
  },
  {
   "cell_type": "markdown",
   "metadata": {
    "id": "YbmFfCpYlSEQ"
   },
   "source": [
    "### Cписки упорядоченны \n",
    "Когда мы говорим, что списки упорядочены, это означает, что элементы имеют определенный порядок, и этот порядок не изменится.\n",
    "\n",
    "Если вы добавляете новые элементы в список, новые элементы будут помещены в конец списка."
   ]
  },
  {
   "cell_type": "markdown",
   "metadata": {
    "id": "GpxsMNSylxWG"
   },
   "source": [
    "**Примечание**. Есть некоторые методы списка , которые изменяют порядок, но в целом: порядок элементов не изменится."
   ]
  },
  {
   "cell_type": "markdown",
   "metadata": {
    "id": "WeFnz9l9l-Gn"
   },
   "source": [
    "### Cписки изменяемы\n",
    "Список можно изменить, что означает, что мы можем изменять, добавлять и удалять элементы в списке после его создания."
   ]
  },
  {
   "cell_type": "markdown",
   "metadata": {
    "id": "CAbf2bkSmKUj"
   },
   "source": [
    "### Разрешены дубликаты\n",
    "Поскольку списки индексируются, списки могут иметь элементы с одинаковым значением:"
   ]
  },
  {
   "cell_type": "code",
   "execution_count": 3,
   "metadata": {
    "id": "JYG_qXsQmMst"
   },
   "outputs": [
    {
     "name": "stdout",
     "output_type": "stream",
     "text": [
      "['яблоко', 'банан', 'вишня', 'яблоко', 'вишня']\n"
     ]
    }
   ],
   "source": [
    "this_list = [\"яблоко\", \"банан\", \"вишня\", \"яблоко\", \"вишня\"]\n",
    "print(this_list)"
   ]
  },
  {
   "cell_type": "markdown",
   "metadata": {
    "id": "gtFPjmoNmyO3"
   },
   "source": [
    "## Длина списка\n",
    "Чтобы определить, сколько элементов в списке, используйте функцию `len()`:"
   ]
  },
  {
   "cell_type": "code",
   "execution_count": 4,
   "metadata": {
    "id": "SSeCRrnhnVYf"
   },
   "outputs": [
    {
     "name": "stdout",
     "output_type": "stream",
     "text": [
      "3\n"
     ]
    }
   ],
   "source": [
    "thislist = [\"яблоко\", \"банан\", \"вишня\"]\n",
    "print(len(thislist))"
   ]
  },
  {
   "cell_type": "markdown",
   "metadata": {
    "id": "Mjmzd_qnn7OY"
   },
   "source": [
    "## Элементы списка — любые типы данных\n",
    "Элементы списка могут иметь любой тип данных:"
   ]
  },
  {
   "cell_type": "markdown",
   "metadata": {
    "id": "qPktTLQXog_-"
   },
   "source": [
    "Типы данных `String`, `int` и `boolean`:"
   ]
  },
  {
   "cell_type": "code",
   "execution_count": 5,
   "metadata": {
    "id": "7sBZl0kgn6q_"
   },
   "outputs": [],
   "source": [
    "list1 = [\"яблоко\", \"банан\", \"вишня\"]\n",
    "list2 = [1, 5, 7, 9, 3]\n",
    "list3 = [True, False, False]"
   ]
  },
  {
   "cell_type": "markdown",
   "metadata": {
    "id": "7xCjTFZ8pS3s"
   },
   "source": [
    "Список может содержать разные типы данных:"
   ]
  },
  {
   "cell_type": "markdown",
   "metadata": {
    "id": "AnYAtmEDpXAc"
   },
   "source": [
    "Список со строками, целыми числами и логическими значениями:"
   ]
  },
  {
   "cell_type": "code",
   "execution_count": 6,
   "metadata": {
    "id": "xZl__tAKpYn9"
   },
   "outputs": [],
   "source": [
    "list1 = [\"abc\", 34, True, 40, \"банан\"]"
   ]
  },
  {
   "cell_type": "markdown",
   "metadata": {
    "id": "Cr0LXQ51pnQJ"
   },
   "source": [
    "С точки зрения Python списки определяются как объекты с типом данных «список»:"
   ]
  },
  {
   "cell_type": "code",
   "execution_count": 7,
   "metadata": {
    "id": "Q8e00oCcpy0y"
   },
   "outputs": [
    {
     "name": "stdout",
     "output_type": "stream",
     "text": [
      "<class 'list'>\n"
     ]
    }
   ],
   "source": [
    "mylist = [\"яблоко\", \"банан\", \"вишня\"]\n",
    "print(type(mylist))"
   ]
  },
  {
   "cell_type": "markdown",
   "metadata": {
    "id": "Qg3ti7_Zp6uV"
   },
   "source": [
    "## Конструктор `list()`\n",
    "Также возможно использовать конструктор `list()` при создании нового списка."
   ]
  },
  {
   "cell_type": "markdown",
   "metadata": {
    "id": "OU78sQc2qBYl"
   },
   "source": [
    "Использование `list()` конструктора для создания списка:"
   ]
  },
  {
   "cell_type": "code",
   "execution_count": 8,
   "metadata": {
    "id": "-OMkHwZJqDw9"
   },
   "outputs": [
    {
     "name": "stdout",
     "output_type": "stream",
     "text": [
      "['яблоко', 'банан', 'вишня']\n"
     ]
    }
   ],
   "source": [
    "thislist = list((\"яблоко\", \"банан\", \"вишня\")) # обратите внимание на двойные круглые скобки\n",
    "print(thislist)"
   ]
  },
  {
   "cell_type": "markdown",
   "metadata": {
    "id": "FhMde4NktOwk"
   },
   "source": [
    "## Доступ к элементам\n",
    "Элементы списка проиндексированы, и вы можете получить к ним доступ, обратившись к номеру индекса:"
   ]
  },
  {
   "cell_type": "code",
   "execution_count": 9,
   "metadata": {
    "id": "lJPKqx_4tRZZ"
   },
   "outputs": [
    {
     "name": "stdout",
     "output_type": "stream",
     "text": [
      "банан\n"
     ]
    }
   ],
   "source": [
    "this_list = [\"яблоко\", \"банан\", \"вишня\"]\n",
    "print(this_list[1])"
   ]
  },
  {
   "cell_type": "markdown",
   "metadata": {
    "id": "8V2pcK9ltWzl"
   },
   "source": [
    "**Примечание** . Первый элемент имеет индекс 0."
   ]
  },
  {
   "cell_type": "markdown",
   "metadata": {
    "id": "hnsFMbb2tiq4"
   },
   "source": [
    "## Отрицательное индексирование\n",
    "Отрицательная индексация означает начало с конца\n",
    "\n",
    "`-1` относится к последнему элементу, `-2` относится к предпоследнему элементу и т. д."
   ]
  },
  {
   "cell_type": "code",
   "execution_count": 10,
   "metadata": {
    "id": "2Zu0cFVEtsQc"
   },
   "outputs": [
    {
     "name": "stdout",
     "output_type": "stream",
     "text": [
      "вишня\n"
     ]
    }
   ],
   "source": [
    "this_list = [\"яблоко\", \"банан\", \"вишня\"]\n",
    "print(this_list[-1])"
   ]
  },
  {
   "cell_type": "markdown",
   "metadata": {
    "id": "yAUCT1Y8t8xk"
   },
   "source": [
    "## Диапазон индексов\n",
    "Вы можете указать диапазон индексов, указав, где начинать и где заканчивать диапазон.\n",
    "\n",
    "При указании диапазона возвращаемым значением будет новый список с указанными элементами."
   ]
  },
  {
   "cell_type": "markdown",
   "metadata": {
    "id": "gVJGD5RQuwy_"
   },
   "source": [
    "Вернуть третий, четвертый и пятый элемент:"
   ]
  },
  {
   "cell_type": "code",
   "execution_count": 11,
   "metadata": {
    "id": "PrPdRYszuxtk"
   },
   "outputs": [
    {
     "name": "stdout",
     "output_type": "stream",
     "text": [
      "['вишня', 'апельсин', 'киви']\n"
     ]
    }
   ],
   "source": [
    "this_list = [\"яблоко\", \"банан\", \"вишня\", \"апельсин\", \"киви\", \"арбуз\", \"манго\"]\n",
    "print(this_list[2:5])\n"
   ]
  },
  {
   "cell_type": "markdown",
   "metadata": {
    "id": "mHOCKvtlvXaD"
   },
   "source": [
    "**Примечание** . Поиск начнется с индекса 2 (включительно) и закончится с индексом 5 (не включено)."
   ]
  },
  {
   "cell_type": "markdown",
   "metadata": {
    "id": "Fq60SxoVvcj7"
   },
   "source": [
    "Если не указывать начальное значение, диапазон будет начинаться с первого элемента:"
   ]
  },
  {
   "cell_type": "markdown",
   "metadata": {
    "id": "n9dZ7f1wveyF"
   },
   "source": [
    "В этом примере возвращаются элементы с самого начала, но НЕ включая «киви»:"
   ]
  },
  {
   "cell_type": "code",
   "execution_count": 12,
   "metadata": {
    "id": "nWQcKEnavfmd"
   },
   "outputs": [
    {
     "name": "stdout",
     "output_type": "stream",
     "text": [
      "['яблоко', 'банан', 'вишня', 'апельсин']\n"
     ]
    }
   ],
   "source": [
    "this_list = [\"яблоко\", \"банан\", \"вишня\", \"апельсин\", \"киви\", \"арбуз\", \"манго\"]\n",
    "print(this_list[:4])"
   ]
  },
  {
   "cell_type": "markdown",
   "metadata": {
    "id": "kxsjaoxWwU0f"
   },
   "source": [
    "Если исключить конечное значение, диапазон будет продолжаться до конца списка:"
   ]
  },
  {
   "cell_type": "markdown",
   "metadata": {
    "id": "YMd61QrHwYpt"
   },
   "source": [
    "В этом примере возвращаются элементы с \"вишни\" и до конца:"
   ]
  },
  {
   "cell_type": "code",
   "execution_count": 13,
   "metadata": {
    "id": "Cm96Eq8lwVSf"
   },
   "outputs": [
    {
     "name": "stdout",
     "output_type": "stream",
     "text": [
      "['вишня', 'апельсин', 'киви', 'дыня', 'манго']\n"
     ]
    }
   ],
   "source": [
    "this_list = [\"яблоко\", \"банан\", \"вишня\", \"апельсин\", \"киви\", \"дыня\", \"манго\"]\n",
    "print(this_list[2:])\n"
   ]
  },
  {
   "cell_type": "markdown",
   "metadata": {
    "id": "OoPt1_b7yd6q"
   },
   "source": [
    "## Диапазон отрицательных индексов\n",
    "Укажите отрицательные индексы, если хотите начать поиск с конца списка:"
   ]
  },
  {
   "cell_type": "markdown",
   "metadata": {
    "id": "lUgbfZCiyvri"
   },
   "source": [
    "В этом примере возвращаются элементы от \"апельсин\" (-4) до \"манго\" (-1), но НЕ включая:"
   ]
  },
  {
   "cell_type": "code",
   "execution_count": 14,
   "metadata": {
    "id": "KMAnLFQdyypG"
   },
   "outputs": [
    {
     "name": "stdout",
     "output_type": "stream",
     "text": [
      "['апельсин', 'киви', 'дыня']\n"
     ]
    }
   ],
   "source": [
    "this_list = [\"яблоко\", \"банан\", \"вишня\", \"апельсин\", \"киви\", \"дыня\", \"манго\"]\n",
    "print(this_list[-4:-1])"
   ]
  },
  {
   "cell_type": "markdown",
   "metadata": {
    "id": "1nB-4ea6w9Bw"
   },
   "source": [
    "#Операции и методы списков"
   ]
  },
  {
   "cell_type": "markdown",
   "metadata": {
    "id": "qLIMcjvhzxIO"
   },
   "source": [
    "## Проверить, существует ли элемент\n",
    "Чтобы определить, присутствует ли указанный элемент в списке, используйте `in` ключевое слово:"
   ]
  },
  {
   "cell_type": "markdown",
   "metadata": {
    "id": "r9uoAh_Oz0nk"
   },
   "source": [
    "Проверьте, присутствует ли «яблоко» в списке:"
   ]
  },
  {
   "cell_type": "code",
   "execution_count": 15,
   "metadata": {
    "id": "-ohwqXTDz1PB"
   },
   "outputs": [],
   "source": [
    "this_list = [\"яблоко\", \"банан\", \"вишня\"]\n",
    "if \"apple\" in thislist:\n",
    "  print(\"Yes, 'apple' is in the fruits list\")"
   ]
  },
  {
   "cell_type": "markdown",
   "metadata": {
    "id": "ptHBgCOT0Rm7"
   },
   "source": [
    "## Изменить значение элемента списка\n",
    "Чтобы изменить значение определенного элемента, обратитесь к номеру индекса:"
   ]
  },
  {
   "cell_type": "code",
   "execution_count": 16,
   "metadata": {
    "id": "uK5QuHIB0Vv5"
   },
   "outputs": [
    {
     "name": "stdout",
     "output_type": "stream",
     "text": [
      "['яблоко', 'черная смородина', 'вишня']\n"
     ]
    }
   ],
   "source": [
    "this_list = [\"яблоко\", \"банан\", \"вишня\"]\n",
    "this_list[1] = \"черная смородина\"\n",
    "print(this_list)"
   ]
  },
  {
   "cell_type": "markdown",
   "metadata": {
    "id": "1_lj0Fzx0zUs"
   },
   "source": [
    "## Изменить диапазон значений элемента\n",
    "Чтобы изменить значение элементов в определенном диапазоне, определите список с новыми значениями и обратитесь к диапазону номеров индексов, в которые вы хотите вставить новые значения:"
   ]
  },
  {
   "cell_type": "code",
   "execution_count": 17,
   "metadata": {
    "id": "1fSQ52aG02Gw"
   },
   "outputs": [
    {
     "name": "stdout",
     "output_type": "stream",
     "text": [
      "['яблоко', 'булка', 'торт']\n"
     ]
    }
   ],
   "source": [
    "thislist = [\"яблоко\", \"банан\", \"вишня\", \"апельсин\", \"киви\", \"манго\"]\n",
    "this_list[1:3] = [\"булка\", \"торт\"]\n",
    "print(this_list)\n"
   ]
  },
  {
   "cell_type": "markdown",
   "metadata": {
    "id": "A3_J_aKK1l00"
   },
   "source": [
    "Если вы вставите больше элементов, чем замените, новые элементы будут вставлены туда, куда вы указали, а оставшиеся элементы будут перемещены (сдвинуты) соответствующим образом:"
   ]
  },
  {
   "cell_type": "code",
   "execution_count": 18,
   "metadata": {
    "id": "vrhgCKSE1mqC"
   },
   "outputs": [
    {
     "name": "stdout",
     "output_type": "stream",
     "text": [
      "['яблоко', 'огурец', 'помидор', 'вишня']\n"
     ]
    }
   ],
   "source": [
    "this_list = [\"яблоко\", \"банан\", \"вишня\"]\n",
    "this_list[1:2] = [\"огурец\", \"помидор\"]\n",
    "print(this_list)\n"
   ]
  },
  {
   "cell_type": "markdown",
   "metadata": {
    "id": "rN627BoR13Dt"
   },
   "source": [
    "**Примечание** . Длина списка изменится, если количество вставленных элементов не совпадает с количеством замененных элементов."
   ]
  },
  {
   "cell_type": "markdown",
   "metadata": {
    "id": "n2RDGGCQ17Uz"
   },
   "source": [
    "Если вы вставите меньше элементов, чем замените, новые элементы будут вставлены туда, где вы указали, а оставшиеся элементы будут перемещены соответствующим образом:"
   ]
  },
  {
   "cell_type": "code",
   "execution_count": 19,
   "metadata": {
    "id": "96o17oxY19l3"
   },
   "outputs": [
    {
     "name": "stdout",
     "output_type": "stream",
     "text": [
      "['яблоко', 'картофель']\n"
     ]
    }
   ],
   "source": [
    "this_list = [\"яблоко\", \"банан\", \"вишня\"]\n",
    "this_list[1:3] = [\"картофель\"]\n",
    "print(this_list)"
   ]
  },
  {
   "cell_type": "markdown",
   "metadata": {
    "id": "53z7y_0o2qtM"
   },
   "source": [
    "## Вставить элементы\n",
    "Чтобы вставить новый элемент списка, не заменяя ни одно из существующих значений, мы можем использовать метод `insert()`.\n",
    "\n",
    "Метод `insert()` вставляет элемент по указанному индексу:"
   ]
  },
  {
   "cell_type": "code",
   "execution_count": 20,
   "metadata": {
    "id": "LDDamagt2xEj"
   },
   "outputs": [
    {
     "name": "stdout",
     "output_type": "stream",
     "text": [
      "['яблоко', 'банан', 'пончик', 'вишня']\n"
     ]
    }
   ],
   "source": [
    "this_list = [\"яблоко\", \"банан\", \"вишня\"]\n",
    "this_list.insert(2, \"пончик\")\n",
    "print(this_list)"
   ]
  },
  {
   "cell_type": "markdown",
   "metadata": {
    "id": "jmcRPZ4F25y6"
   },
   "source": [
    "**Примечание**. В результате приведенного выше примера список теперь будет содержать 4 элемента."
   ]
  },
  {
   "cell_type": "markdown",
   "metadata": {
    "id": "a3Mg9N4L66Nw"
   },
   "source": [
    "## Добавить элементы\n",
    "Чтобы добавить элемент в конец списка, используйте метод `append()` :"
   ]
  },
  {
   "cell_type": "markdown",
   "metadata": {
    "id": "03Tx2jW86-Ph"
   },
   "source": [
    "Использование метода `append()` для добавления элемента:\n",
    "\n",
    "\n"
   ]
  },
  {
   "cell_type": "code",
   "execution_count": 21,
   "metadata": {
    "colab": {
     "base_uri": "https://localhost:8080/"
    },
    "executionInfo": {
     "elapsed": 304,
     "status": "ok",
     "timestamp": 1664949784061,
     "user": {
      "displayName": "Наталья Пояркова",
      "userId": "05997905871093046879"
     },
     "user_tz": -180
    },
    "id": "6x8atdqt7C_9",
    "outputId": "b49845f2-99e9-4a2e-9526-bc1006555c2d"
   },
   "outputs": [
    {
     "name": "stdout",
     "output_type": "stream",
     "text": [
      "['яблоко', 'банан', 'вишня', 'котлета']\n"
     ]
    }
   ],
   "source": [
    "this_list = [\"яблоко\", \"банан\", \"вишня\"]\n",
    "this_list.append(\"котлета\")\n",
    "print(this_list)"
   ]
  },
  {
   "cell_type": "markdown",
   "metadata": {
    "id": "4pBIPRNRDrXL"
   },
   "source": [
    "## Вставить элементы\n",
    "Чтобы вставить элемент списка по указанному индексу, используйте метод `insert()`.\n",
    "\n",
    "Метод `insert()` вставляет элемент по указанному индексу:"
   ]
  },
  {
   "cell_type": "code",
   "execution_count": 22,
   "metadata": {
    "colab": {
     "base_uri": "https://localhost:8080/"
    },
    "executionInfo": {
     "elapsed": 602,
     "status": "ok",
     "timestamp": 1664949838449,
     "user": {
      "displayName": "Наталья Пояркова",
      "userId": "05997905871093046879"
     },
     "user_tz": -180
    },
    "id": "BAnXbE1TD8CJ",
    "outputId": "07f02d2e-5606-4abe-e98b-0b0487d86294"
   },
   "outputs": [
    {
     "name": "stdout",
     "output_type": "stream",
     "text": [
      "['яблоко', 'молоко', 'банан', 'вишня']\n"
     ]
    }
   ],
   "source": [
    "this_list = [\"яблоко\", \"банан\", \"вишня\"]\n",
    "this_list.insert(1, \"молоко\")\n",
    "print(this_list)\n"
   ]
  },
  {
   "cell_type": "markdown",
   "metadata": {
    "id": "zTEe18HNEH7o"
   },
   "source": [
    "## Расширить список\n",
    "Чтобы добавить элементы из другого списка в текущий список, используйте метод `extend()`.\n",
    "\n"
   ]
  },
  {
   "cell_type": "code",
   "execution_count": 23,
   "metadata": {
    "id": "CGVYGa8NEO50"
   },
   "outputs": [
    {
     "name": "stdout",
     "output_type": "stream",
     "text": [
      "['яблоко', 'банан', 'вишня', 'манго', 'ананас', 'папайа']\n"
     ]
    }
   ],
   "source": [
    "this_list = [\"яблоко\", \"банан\", \"вишня\"]\n",
    "tropical = [\"манго\", \"ананас\", \"папайа\"]\n",
    "this_list.extend(tropical)\n",
    "print(this_list)"
   ]
  },
  {
   "cell_type": "markdown",
   "metadata": {
    "id": "AGF8cyYmEdDO"
   },
   "source": [
    "## Добавить любой итерируемый объект\n",
    "Метод `extend()` позволяет добавлять не только списки , вы можете добавить любой итерируемый объект (кортежи, наборы, словари и т. д.)."
   ]
  },
  {
   "cell_type": "code",
   "execution_count": 24,
   "metadata": {
    "id": "vFugQOrwEgt-"
   },
   "outputs": [
    {
     "name": "stdout",
     "output_type": "stream",
     "text": [
      "['яблоко', 'банан', 'вишня', 'киви', 'апельсин']\n"
     ]
    }
   ],
   "source": [
    "this_list = [\"яблоко\", \"банан\", \"вишня\"]\n",
    "this_tuple = (\"киви\", \"апельсин\")\n",
    "this_list.extend(this_tuple)\n",
    "print(this_list)\n"
   ]
  },
  {
   "cell_type": "markdown",
   "metadata": {
    "id": "Vc_FbZbrFMEm"
   },
   "source": [
    "## Удалить элементы списка"
   ]
  },
  {
   "cell_type": "markdown",
   "metadata": {
    "id": "16s7-_1aFPns"
   },
   "source": [
    "Удалить указанный элемент\n",
    "Метод `remove()` удаляет указанный элемент."
   ]
  },
  {
   "cell_type": "code",
   "execution_count": 25,
   "metadata": {
    "id": "NJugYNVYFSyI"
   },
   "outputs": [
    {
     "name": "stdout",
     "output_type": "stream",
     "text": [
      "['яблоко', 'вишня']\n"
     ]
    }
   ],
   "source": [
    "this_list = [\"яблоко\", \"банан\", \"вишня\"]\n",
    "this_list.remove(\"банан\")\n",
    "print(this_list)\n"
   ]
  },
  {
   "cell_type": "markdown",
   "metadata": {
    "id": "LfxFpv9xFg_H"
   },
   "source": [
    "## Удалить указанный индекс\n",
    "Метод `pop()` удаляет указанный индекс."
   ]
  },
  {
   "cell_type": "code",
   "execution_count": 26,
   "metadata": {
    "id": "kD2GHVemFnHs"
   },
   "outputs": [
    {
     "name": "stdout",
     "output_type": "stream",
     "text": [
      "['яблоко', 'вишня']\n"
     ]
    }
   ],
   "source": [
    "this_list = [\"яблоко\", \"банан\", \"вишня\"]\n",
    "this_list.pop(1)\n",
    "print(this_list)"
   ]
  },
  {
   "cell_type": "markdown",
   "metadata": {
    "id": "GIPJwaIXFsLB"
   },
   "source": [
    "Если вы не укажете индекс, `pop()` метод удалит последний элемент."
   ]
  },
  {
   "cell_type": "code",
   "execution_count": 27,
   "metadata": {
    "id": "7K0tQzlBFxsk"
   },
   "outputs": [
    {
     "name": "stdout",
     "output_type": "stream",
     "text": [
      "['яблоко', 'банан']\n"
     ]
    }
   ],
   "source": [
    "this_list = [\"яблоко\", \"банан\", \"вишня\"]\n",
    "this_list.pop()\n",
    "print(this_list)\n"
   ]
  },
  {
   "cell_type": "markdown",
   "metadata": {
    "id": "i4uh4atSF2HO"
   },
   "source": [
    "Ключевое `del` слово также удаляет указанный индекс:"
   ]
  },
  {
   "cell_type": "code",
   "execution_count": 28,
   "metadata": {
    "id": "ZWHyYTvPGDUs"
   },
   "outputs": [
    {
     "name": "stdout",
     "output_type": "stream",
     "text": [
      "['банан', 'вишня']\n"
     ]
    }
   ],
   "source": [
    "this_list = [\"яблоко\", \"банан\", \"вишня\"]\n",
    "del this_list[0]\n",
    "print(this_list)"
   ]
  },
  {
   "cell_type": "markdown",
   "metadata": {
    "id": "0yZO82yNGFz-"
   },
   "source": [
    "Ключевое `del` слово также может полностью удалить список."
   ]
  },
  {
   "cell_type": "code",
   "execution_count": 29,
   "metadata": {
    "id": "yYP9IKYcGIbH"
   },
   "outputs": [],
   "source": [
    "this_list = [\"яблоко\", \"банан\", \"вишня\"]\n",
    "del this_list"
   ]
  },
  {
   "cell_type": "markdown",
   "metadata": {
    "id": "e8BuAludGdJI"
   },
   "source": [
    "## Очистить список\n",
    "Метод `clear()` очищает список.\n",
    "\n",
    "Список все еще остается, но в нем нет содержания."
   ]
  },
  {
   "cell_type": "code",
   "execution_count": 30,
   "metadata": {
    "id": "RfEAQlbCGfmZ"
   },
   "outputs": [
    {
     "name": "stdout",
     "output_type": "stream",
     "text": [
      "[]\n"
     ]
    }
   ],
   "source": [
    "this_list = [\"яблоко\", \"банан\", \"вишня\"]\n",
    "this_list.clear()\n",
    "print(this_list)\n"
   ]
  },
  {
   "cell_type": "markdown",
   "metadata": {
    "id": "rlE1xLZucIO3"
   },
   "source": [
    "## Операции сложения и умножения"
   ]
  },
  {
   "cell_type": "code",
   "execution_count": 31,
   "metadata": {
    "id": "TyLaebXYdTTR"
   },
   "outputs": [
    {
     "name": "stdout",
     "output_type": "stream",
     "text": [
      "['a', 'b', 'c', 1, 2, 3]\n"
     ]
    }
   ],
   "source": [
    "list1 = [\"a\", \"b\", \"c\"]\n",
    "list2 = [1, 2, 3]\n",
    "\n",
    "list3 = list1 + list2\n",
    "print(list3)\n"
   ]
  },
  {
   "cell_type": "code",
   "execution_count": 32,
   "metadata": {
    "id": "7oVFIz_zu_iq"
   },
   "outputs": [
    {
     "name": "stdout",
     "output_type": "stream",
     "text": [
      "[10, 20, 30, 40, 10, 20, 30, 40]\n"
     ]
    }
   ],
   "source": [
    "this_list = [10, 20, 30, 40]\n",
    "new_list = this_list * 2\n",
    "print(new_list)"
   ]
  },
  {
   "cell_type": "markdown",
   "metadata": {
    "id": "Ji1UihbIcopG"
   },
   "source": []
  },
  {
   "cell_type": "markdown",
   "metadata": {
    "id": "Anmh_bRgx5sp"
   },
   "source": [
    "#Задания (часть1)"
   ]
  },
  {
   "cell_type": "markdown",
   "metadata": {
    "id": "uMudp9ZQx5sq"
   },
   "source": [
    "### Упражнение 1: \n",
    "Распечатайте второй элемент списка `fruits`"
   ]
  },
  {
   "cell_type": "code",
   "execution_count": 33,
   "metadata": {
    "id": "UFLJW8L2x5sq"
   },
   "outputs": [
    {
     "name": "stdout",
     "output_type": "stream",
     "text": [
      "банан\n"
     ]
    }
   ],
   "source": [
    "fruits = [\"яблоко\", \"банан\", \"вишня\"]\n",
    "print(fruits[1])"
   ]
  },
  {
   "cell_type": "markdown",
   "metadata": {
    "id": "_GF7Edqbx5sq"
   },
   "source": [
    "### Упражнение 2: \n",
    "Измените значение «яблоко» на «киви» в списке `fruits`.\n",
    "\n"
   ]
  },
  {
   "cell_type": "code",
   "execution_count": 34,
   "metadata": {
    "id": "dACkaWx9x5sq"
   },
   "outputs": [
    {
     "name": "stdout",
     "output_type": "stream",
     "text": [
      "['киви', 'банан', 'вишня']\n"
     ]
    }
   ],
   "source": [
    "fruits = [\"яблоко\", \"банан\", \"вишня\"]\n",
    "fruits[0] = \"киви\" \n",
    "print(fruits)\n"
   ]
  },
  {
   "cell_type": "markdown",
   "metadata": {
    "id": "waqV-wEjx5sq"
   },
   "source": [
    "### Упражнение 3: \n",
    "Используйте метод `append`, чтобы добавить «апельсин» в список `fruits`.\n",
    "\n"
   ]
  },
  {
   "cell_type": "code",
   "execution_count": 35,
   "metadata": {
    "id": "DJ4VK15Gx5sq"
   },
   "outputs": [
    {
     "name": "stdout",
     "output_type": "stream",
     "text": [
      "['яблоко', 'банан', 'вишня', 'апельсин']\n"
     ]
    }
   ],
   "source": [
    "fruits = [\"яблоко\", \"банан\", \"вишня\"]\n",
    "fruits.append(\"апельсин\")  \n",
    "print(fruits)\n"
   ]
  },
  {
   "cell_type": "markdown",
   "metadata": {
    "id": "yKfsNojlx5sq"
   },
   "source": [
    "### Упражнение 4: \n",
    "Используйте метод `insert`, чтобы добавить «лимон» в качестве второго элемента в списке `fruits`.\n",
    "\n"
   ]
  },
  {
   "cell_type": "code",
   "execution_count": 36,
   "metadata": {
    "id": "qD-L0KkYx5sr"
   },
   "outputs": [
    {
     "name": "stdout",
     "output_type": "stream",
     "text": [
      "['яблоко', 'лимон', 'банан', 'вишня']\n"
     ]
    }
   ],
   "source": [
    "fruits = [\"яблоко\", \"банан\", \"вишня\"]\n",
    "fruits.insert(1, \"лимон\")\n",
    "print(fruits)\n"
   ]
  },
  {
   "cell_type": "markdown",
   "metadata": {
    "id": "WhGBX2p0x5sr"
   },
   "source": [
    "### Упражнение 5: \n",
    "Используйте метод `remove`, чтобы удалить «банан» из списка `fruits`."
   ]
  },
  {
   "cell_type": "code",
   "execution_count": 37,
   "metadata": {
    "id": "0GenFW_Yx5sr"
   },
   "outputs": [
    {
     "name": "stdout",
     "output_type": "stream",
     "text": [
      "['яблоко', 'вишня']\n"
     ]
    }
   ],
   "source": [
    "fruits = [\"яблоко\", \"банан\", \"вишня\"]\n",
    "fruits.remove(\"банан\")\n",
    "print(fruits)\n"
   ]
  },
  {
   "cell_type": "markdown",
   "metadata": {
    "id": "OzVI6C6Sx5sr"
   },
   "source": [
    "### Упражнение 6: \n",
    "Используйте отрицательную индексацию, чтобы напечатать последний элемент в списке."
   ]
  },
  {
   "cell_type": "code",
   "execution_count": 38,
   "metadata": {
    "id": "ZHJisICTx5sr"
   },
   "outputs": [
    {
     "name": "stdout",
     "output_type": "stream",
     "text": [
      "вишня\n"
     ]
    }
   ],
   "source": [
    "fruits = [\"яблоко\", \"банан\", \"вишня\"]\n",
    "print(fruits[-1]) \n"
   ]
  },
  {
   "cell_type": "markdown",
   "metadata": {
    "id": "qbZyj5Uax5sr"
   },
   "source": [
    "### Упражнение 7:\n",
    "Используйте диапазон индексов для вывода третьего, четвертого и пятого элементов списка."
   ]
  },
  {
   "cell_type": "code",
   "execution_count": 39,
   "metadata": {
    "id": "0insxQadx5sr"
   },
   "outputs": [
    {
     "name": "stdout",
     "output_type": "stream",
     "text": [
      "['вишня', 'апельсин', 'киви']\n"
     ]
    }
   ],
   "source": [
    "fruits = [\"яблоко\", \"банан\", \"вишня\", \"апельсин\", \"киви\", \"дыня\", \"манго\"]\n",
    "print(fruits[2:5])\n"
   ]
  },
  {
   "cell_type": "markdown",
   "metadata": {
    "id": "TdUhhUOxx5sr"
   },
   "source": [
    "### Упражнение 8:\n",
    "Используйте правильный синтаксис для печати количества элементов в списке."
   ]
  },
  {
   "cell_type": "code",
   "execution_count": 40,
   "metadata": {
    "id": "Ve_jUlNmx5sr"
   },
   "outputs": [
    {
     "name": "stdout",
     "output_type": "stream",
     "text": [
      "3\n"
     ]
    }
   ],
   "source": [
    "fruits = [\"яблоко\", \"банан\", \"вишня\"]\n",
    "print(len(fruits)) \n"
   ]
  },
  {
   "cell_type": "markdown",
   "metadata": {
    "id": "yyNTCRrWGszY"
   },
   "source": [
    "# Списки и циклы"
   ]
  },
  {
   "cell_type": "markdown",
   "metadata": {
    "id": "iZeUsdGdHXJn"
   },
   "source": [
    "## Перебор элементов списка\n",
    "Вы можете \"прокручивать\" все элементы списка, используя цикл `for`:"
   ]
  },
  {
   "cell_type": "markdown",
   "metadata": {
    "id": "jaEj03UpHio3"
   },
   "source": [
    "Распечатайте все элементы в списке, один за другим:"
   ]
  },
  {
   "cell_type": "code",
   "execution_count": 41,
   "metadata": {
    "id": "lv7JN6sMHjcG"
   },
   "outputs": [
    {
     "name": "stdout",
     "output_type": "stream",
     "text": [
      "яблоко\n",
      "банан\n",
      "вишня\n"
     ]
    }
   ],
   "source": [
    "this_list = [\"яблоко\", \"банан\", \"вишня\"]\n",
    "for x in this_list:\n",
    "  print(x)\n"
   ]
  },
  {
   "cell_type": "markdown",
   "metadata": {
    "id": "yqAGl0cxMRpM"
   },
   "source": [
    "## Перебор по номерам индексов\n",
    "Вы также можете \"прокручивать\" элементы списка, обращаясь к их порядковому номеру.\n",
    "\n",
    "Используйте функции `range()` и `len()` для создания подходящего итерируемого объекта."
   ]
  },
  {
   "cell_type": "code",
   "execution_count": 42,
   "metadata": {
    "id": "NEtZd2yQMWsT"
   },
   "outputs": [
    {
     "name": "stdout",
     "output_type": "stream",
     "text": [
      "яблоко\n",
      "банан\n",
      "вишня\n"
     ]
    }
   ],
   "source": [
    "this_list = [\"яблоко\", \"банан\", \"вишня\"]\n",
    "for i in range(len(this_list)):\n",
    "  print(this_list[i])"
   ]
  },
  {
   "cell_type": "markdown",
   "metadata": {
    "id": "msJ3eOu4ac8A"
   },
   "source": [
    "Итерируемый объект, созданный методом range() в приведенном выше примере, — это `[0, 1, 2]`."
   ]
  },
  {
   "cell_type": "markdown",
   "metadata": {
    "id": "xS8gSn0_amHS"
   },
   "source": [
    "## Использование цикла `while`\n",
    "Вы можете перебирать элементы списка, используя цикл `while`.\n",
    "\n",
    "Используйте функцию `len()`, чтобы определить длину списка, затем начните с `0` и прокручивайте элементы списка, обращаясь к их индексам.\n",
    "\n",
    "Не забывайте увеличивать индекс на 1 после каждой итерации."
   ]
  },
  {
   "cell_type": "markdown",
   "metadata": {
    "id": "4MNC3sG0bV8J"
   },
   "source": [
    "Распечатайте все элементы, используя цикл `while` для просмотра всех номеров индексов."
   ]
  },
  {
   "cell_type": "code",
   "execution_count": 43,
   "metadata": {
    "id": "Wtni-P4YbZSN"
   },
   "outputs": [
    {
     "name": "stdout",
     "output_type": "stream",
     "text": [
      "яблоко\n",
      "банан\n",
      "вишня\n"
     ]
    }
   ],
   "source": [
    "this_list = [\"яблоко\", \"банан\", \"вишня\"]\n",
    "i = 0\n",
    "while i < len(this_list):\n",
    "  print(this_list[i])\n",
    "  i = i + 1\n"
   ]
  },
  {
   "cell_type": "markdown",
   "metadata": {
    "id": "orLa9BP51iN1"
   },
   "source": [
    "## Цикл с использованием List Comprehension\n",
    "List Comprehension предлагает кратчайший синтаксис для перебора списков"
   ]
  },
  {
   "cell_type": "markdown",
   "metadata": {
    "id": "a2-HYe1F1qp4"
   },
   "source": [
    "Компактная запись цикла `for`, который будет печатать все элементы в списке:"
   ]
  },
  {
   "cell_type": "code",
   "execution_count": 44,
   "metadata": {
    "id": "ExgYettR13VT"
   },
   "outputs": [
    {
     "name": "stdout",
     "output_type": "stream",
     "text": [
      "яблоко\n",
      "банан\n",
      "вишня\n"
     ]
    },
    {
     "data": {
      "text/plain": [
       "[None, None, None]"
      ]
     },
     "execution_count": 44,
     "metadata": {},
     "output_type": "execute_result"
    }
   ],
   "source": [
    "this_list = [\"яблоко\", \"банан\", \"вишня\"]\n",
    "[print(x) for x in this_list]"
   ]
  },
  {
   "cell_type": "markdown",
   "metadata": {
    "id": "Y5nIaS3gFoQw"
   },
   "source": [
    "#Задания"
   ]
  },
  {
   "cell_type": "markdown",
   "metadata": {
    "id": "R2NemYpcGVxv"
   },
   "source": [
    "###Задача 2.1. Составить список из чисел, которые вводит пользователь с клавиатуры. Вариант 1 – количество чисел заранее известно. Вариант 2 – количество чисел не известно, признаком окончания ввода чисел является введенное число 0 (число 0 не нужно добавлять к списку).\n"
   ]
  },
  {
   "cell_type": "code",
   "execution_count": null,
   "metadata": {
    "id": "dN1tEHrOGbe3"
   },
   "outputs": [],
   "source": [
    "# Вариант 1\n",
    "n = int(input(\"Введите количество чисел: \")) \n",
    "numbers = [] \n",
    "\n",
    "for i in range(n):\n",
    "    num = int(input(f\"Введите число {i + 1}: \")) \n",
    "    numbers.append(num)\n",
    "\n",
    "print(\"Список чисел:\", numbers)\n"
   ]
  },
  {
   "cell_type": "markdown",
   "metadata": {
    "id": "C2AcHXKdo_Ux"
   },
   "source": [
    "Решение с использованием while"
   ]
  },
  {
   "cell_type": "code",
   "execution_count": null,
   "metadata": {
    "id": "JtMJ6arEo9eO"
   },
   "outputs": [],
   "source": [
    "nums = []\n",
    "x = int(input())\n",
    "while x!=0:\n",
    " nums.append(x)\n",
    " x = int(input())\n",
    "print(nums)\n"
   ]
  },
  {
   "cell_type": "markdown",
   "metadata": {
    "id": "CLAsTzv-Pb4a"
   },
   "source": [
    "###Задача 2.2 Задан список. Вывести на экран все элементы списка и их индексы (номера), Вариант 1 – используя цикл for, вариант 2 – используя цикл while"
   ]
  },
  {
   "cell_type": "code",
   "execution_count": null,
   "metadata": {
    "id": "KgHIJHIaSIOw"
   },
   "outputs": [],
   "source": [
    "#Вариант 1\n",
    "my_list = [\"яблоко\", \"банан\", \"вишня\", \"апельсин\"]\n",
    "\n",
    "for index in range(len(my_list)):\n",
    "    print(f\"Индекс: {index}, Элемент: {my_list[index]}\")\n"
   ]
  },
  {
   "cell_type": "markdown",
   "metadata": {
    "id": "ZNCtTGz6y-eG"
   },
   "source": [
    "# Сортировка списков и обратный порядок"
   ]
  },
  {
   "cell_type": "markdown",
   "metadata": {
    "id": "DLgZRs08zLIQ"
   },
   "source": [
    "Сортировать список по алфавиту\n",
    "Объекты списка имеют метод `sort()`, который по умолчанию сортирует список в алфавитно-цифровом порядке по возрастанию:"
   ]
  },
  {
   "cell_type": "code",
   "execution_count": null,
   "metadata": {
    "id": "1DEVUT_pzSfW"
   },
   "outputs": [],
   "source": [
    "this_list = [\"апельсин\", \"манго\", \"киви\", \"ананас\", \"банан\"]\n",
    "thislist.sort()\n",
    "print(this_list)"
   ]
  },
  {
   "cell_type": "code",
   "execution_count": null,
   "metadata": {
    "id": "hWjALL3v0KrF"
   },
   "outputs": [],
   "source": [
    "this_list = [100, 50, 65, 82, 23]\n",
    "this_list.sort()\n",
    "print(this_list)\n"
   ]
  },
  {
   "cell_type": "markdown",
   "metadata": {
    "id": "LSlJMKAs05Yk"
   },
   "source": [
    "## Сортировка по убыванию\n",
    "Для сортировки по убыванию используйте аргумент ключевого слова `reverse = True`:"
   ]
  },
  {
   "cell_type": "code",
   "execution_count": null,
   "metadata": {
    "id": "_sTHFUCC1m8m"
   },
   "outputs": [],
   "source": [
    "this_list = [\"апельсин\", \"манго\", \"киви\", \"ананас\", \"банан\"]\n",
    "this_list.sort(reverse = True)\n",
    "print(this_list)"
   ]
  },
  {
   "cell_type": "code",
   "execution_count": null,
   "metadata": {
    "id": "rXWeNWvC2MSF"
   },
   "outputs": [],
   "source": [
    "this_list = [100, 50, 65, 82, 23]\n",
    "this_list.sort(reverse = True)\n",
    "print(this_list)"
   ]
  },
  {
   "cell_type": "markdown",
   "metadata": {
    "id": "B-YHZTs7Zog7"
   },
   "source": [
    "## Обратный порядок\n",
    "\n",
    "Метод `reverse()` меняет текущий порядок сортировки элементов на противоположный.\n",
    "\n"
   ]
  },
  {
   "cell_type": "code",
   "execution_count": null,
   "metadata": {
    "id": "5b8OsucFZt_X"
   },
   "outputs": [],
   "source": [
    "thislist = [\"банан\", \"Апельсин\", \"Киви\", \"вишня\"]\n",
    "thislist.reverse()\n",
    "print(thislist)\n"
   ]
  },
  {
   "cell_type": "markdown",
   "metadata": {
    "id": "NawtUt0jaA8_"
   },
   "source": [
    "# Копирование списков"
   ]
  },
  {
   "cell_type": "markdown",
   "metadata": {
    "id": "PJ4K_bjWaKuV"
   },
   "source": [
    "Вы не можете скопировать список, просто набрав `list2 = list1`, потому что: `list2` будет только ссылка на `list1`, а изменения, внесенные в `list1`, будут автоматически также сделаны в `list2`.\n",
    "\n",
    "Есть способы сделать копию, один из способов — использовать встроенный метод `List copy()`."
   ]
  },
  {
   "cell_type": "markdown",
   "metadata": {
    "id": "l2yr0e4ravFz"
   },
   "source": [
    "Сделайте копию списка с помощью метода `copy()`:"
   ]
  },
  {
   "cell_type": "code",
   "execution_count": null,
   "metadata": {
    "id": "aZ2SK7uPa62s"
   },
   "outputs": [],
   "source": [
    "this_list = [\"яблоко\", \"банан\", \"вишня\"]\n",
    "my_list = this_list.copy()\n",
    "print(my_list)\n"
   ]
  },
  {
   "cell_type": "markdown",
   "metadata": {
    "id": "hmQN2lOYbtJZ"
   },
   "source": [
    "Другой способ сделать копию — использовать встроенный метод `list()`."
   ]
  },
  {
   "cell_type": "code",
   "execution_count": null,
   "metadata": {
    "id": "giVusVYFbveP"
   },
   "outputs": [],
   "source": [
    "this_list = [\"ябоко\", \"банан\", \"вишня\"]\n",
    "my_list = list(this_list)\n",
    "print(my_list)"
   ]
  },
  {
   "cell_type": "markdown",
   "metadata": {
    "id": "00bR2w6zfmvS"
   },
   "source": [
    "# Методы списков (для справки)"
   ]
  },
  {
   "cell_type": "markdown",
   "metadata": {
    "id": "Ln_RwJykfPWw"
   },
   "source": [
    "|Метод| |Объяснение|\n",
    "|-----| |------|\n",
    "|append()| |Добавляет элемент в конец списка|\n",
    "|clear()| |Удаляет все элементы из списка|\n",
    "|copy()| |Возвращает копию списка|\n",
    "|count()| |Возвращает количество элементов с указанным значением|\n",
    "|extend()| |Добавьте элементы списка (или любого итерируемого) в конец текущего списка|\n",
    "|index()| |Возвращает индекс первого элемента с указанным значением|\n",
    "|insert()| |Добавляет элемент в указанную позицию|\n",
    "|pop()| |Удаляет элемент в указанном положении|\n",
    "|remove()| |Удаляет элемент с указанным значением|\n",
    "|reverse()| |Изменяет порядок следования списка на противоположный|\n",
    "|sort()| |Сортирует список|"
   ]
  },
  {
   "cell_type": "markdown",
   "metadata": {
    "id": "3ymgzKU_Dq5a"
   },
   "source": [
    "Функции, в корторых список может быть аргументом"
   ]
  },
  {
   "cell_type": "markdown",
   "metadata": {
    "id": "KnUg1BwjzjK9"
   },
   "source": [
    "![image.png](data:image/png;base64,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)"
   ]
  }
 ],
 "metadata": {
  "colab": {
   "collapsed_sections": [],
   "provenance": [
    {
     "file_id": "1JTCA2FMteuCZ5uAlpcujqqBWpMNqXswq",
     "timestamp": 1664475762874
    }
   ]
  },
  "kernelspec": {
   "display_name": "Python 3",
   "language": "python",
   "name": "python3"
  },
  "language_info": {
   "codemirror_mode": {
    "name": "ipython",
    "version": 3
   },
   "file_extension": ".py",
   "mimetype": "text/x-python",
   "name": "python",
   "nbconvert_exporter": "python",
   "pygments_lexer": "ipython3",
   "version": "3.11.9"
  },
  "latex_envs": {
   "LaTeX_envs_menu_present": true,
   "autoclose": false,
   "autocomplete": true,
   "bibliofile": "biblio.bib",
   "cite_by": "apalike",
   "current_citInitial": 1,
   "eqLabelWithNumbers": true,
   "eqNumInitial": 1,
   "hotkeys": {
    "equation": "Ctrl-E",
    "itemize": "Ctrl-I"
   },
   "labels_anchors": false,
   "latex_user_defs": false,
   "report_style_numbering": false,
   "user_envs_cfg": false
  },
  "toc": {
   "base_numbering": 1,
   "nav_menu": {},
   "number_sections": false,
   "sideBar": true,
   "skip_h1_title": false,
   "title_cell": "Table of Contents",
   "title_sidebar": "Contents",
   "toc_cell": false,
   "toc_position": {},
   "toc_section_display": true,
   "toc_window_display": false
  }
 },
 "nbformat": 4,
 "nbformat_minor": 1
}
